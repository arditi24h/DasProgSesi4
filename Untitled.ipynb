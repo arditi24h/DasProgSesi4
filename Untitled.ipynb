{
 "cells": [
  {
   "cell_type": "markdown",
   "id": "5a012bd1-a079-40c9-a340-9f0494523da4",
   "metadata": {},
   "source": [
    "<h1>Operator Aritmatika</h1>"
   ]
  },
  {
   "cell_type": "code",
   "execution_count": 1,
   "id": "82ea6130-3a85-4942-88ed-a9af9fa7f9aa",
   "metadata": {},
   "outputs": [
    {
     "name": "stdout",
     "output_type": "stream",
     "text": [
      "setiap orang akan menerima apel sebanyak: 3.0\n",
      "total apel budi sekarang adalah sebanyak: 20\n"
     ]
    }
   ],
   "source": [
    "jumlahApel = 12\n",
    "jumlahTeman = 4\n",
    "\n",
    "apelPerTeman = jumlahApel / jumlahTeman\n",
    "print(\"setiap orang akan menerima apel sebanyak:\",apelPerTeman)\n",
    "\n",
    "tambahanApel = 8\n",
    "totalApel = jumlahApel + tambahanApel\n",
    "\n",
    "print(\"total apel budi sekarang adalah sebanyak:\",totalApel)"
   ]
  },
  {
   "cell_type": "markdown",
   "id": "322c5ec1-bd01-4cbb-a09f-997352b65647",
   "metadata": {},
   "source": [
    "<h1>Operator Perbandingan</h1>"
   ]
  },
  {
   "cell_type": "code",
   "execution_count": 3,
   "id": "15197bbf-205a-4f8e-813e-a7efbd7f8089",
   "metadata": {},
   "outputs": [
    {
     "name": "stdout",
     "output_type": "stream",
     "text": [
      "160 = 165 False\n",
      "160 != 165 True\n",
      "160 < 165 True\n",
      "160 > 165 False\n",
      "jadi yang paling tinggi adalah andi sebesar 165 cm\n"
     ]
    }
   ],
   "source": [
    "siti = 160 \n",
    "andi = 165\n",
    "\n",
    "print(siti, \"=\",andi,siti==andi)\n",
    "print(siti, \"!=\",andi,siti!=andi)\n",
    "print(siti, \"<\",andi,siti<andi)\n",
    "print(siti, \">\",andi,siti>andi)\n",
    "\n",
    "print(\"jadi yang paling tinggi adalah andi sebesar\",andi,\"cm\")"
   ]
  },
  {
   "cell_type": "markdown",
   "id": "ed5570e7-a5ef-4ebe-a217-a4ccbe66fb72",
   "metadata": {},
   "source": [
    "<h1>Operator Logika</h1>"
   ]
  },
  {
   "cell_type": "code",
   "execution_count": 4,
   "id": "f6a709ce-7db8-492e-afb3-f3703201519d",
   "metadata": {},
   "outputs": [
    {
     "name": "stdout",
     "output_type": "stream",
     "text": [
      "apakah budi bisa bermain di luar True\n"
     ]
    }
   ],
   "source": [
    "cuacaCerah = True\n",
    "prSelesai = True\n",
    "\n",
    "bisaBermain = cuacaCerah and prSelesai\n",
    "print(\"apakah budi bisa bermain di luar\",bisaBermain)"
   ]
  },
  {
   "cell_type": "markdown",
   "id": "207018ec-bd29-45f8-8884-14deb563ad07",
   "metadata": {},
   "source": [
    "<h1>Operator Bitwise</h1>"
   ]
  },
  {
   "cell_type": "code",
   "execution_count": 5,
   "id": "5dee0158-3e3a-4b00-bebd-13f3ca092632",
   "metadata": {},
   "outputs": [
    {
     "name": "stdout",
     "output_type": "stream",
     "text": [
      "angka biner dari AND adalah: 0b10\n",
      "angka biner dari OR adalah: 0b111\n",
      "angka biner dari XOR adalah: 0b101\n"
     ]
    }
   ],
   "source": [
    "num1 = 6\n",
    "num2 = 3\n",
    "\n",
    "hasilAnd = num1 & num2\n",
    "print(\"angka biner dari AND adalah:\",bin(hasilAnd))\n",
    "\n",
    "\n",
    "hasilOr = num1 | num2\n",
    "print(\"angka biner dari OR adalah:\",bin(hasilOr))\n",
    "\n",
    "hasilXor = num1 ^ num2\n",
    "print(\"angka biner dari XOR adalah:\",bin(hasilXor))"
   ]
  },
  {
   "cell_type": "markdown",
   "id": "7e168417-7d51-403f-a682-1e0dfcfbc971",
   "metadata": {},
   "source": [
    "<h1>Operator Penugasan</h1>"
   ]
  },
  {
   "cell_type": "code",
   "execution_count": 8,
   "id": "57db8d97-7c3d-4e89-bfab-d3ed9c49303b",
   "metadata": {},
   "outputs": [
    {
     "name": "stdout",
     "output_type": "stream",
     "text": [
      "uangAwal 50000\n",
      "setelah di tambah 20000 = 70000\n",
      "dia membeli paket internet sebesar 30000 = 40000\n"
     ]
    }
   ],
   "source": [
    "uangAwal = 50000\n",
    "print(\"uangAwal\",uangAwal)\n",
    "uangAwal += 20000\n",
    "print(\"setelah di tambah 20000 =\",uangAwal)\n",
    "uangAwal -= 30000\n",
    "print(\"dia membeli paket internet sebesar 30000 =\",uangAwal)"
   ]
  },
  {
   "cell_type": "markdown",
   "id": "266af324-4eaf-4da4-91ef-7c53dd74459a",
   "metadata": {},
   "source": [
    "<h1>Operator Keanggotaan</h1>"
   ]
  },
  {
   "cell_type": "code",
   "execution_count": 7,
   "id": "5dc85372-955e-4c9f-90cc-820abaf086c4",
   "metadata": {},
   "outputs": [
    {
     "name": "stdout",
     "output_type": "stream",
     "text": [
      "apakah terdaftar? False\n",
      "apakah kata pyhton ada di kalimat True\n"
     ]
    }
   ],
   "source": [
    "name = \"eka\"\n",
    "daftarPesertaLomba = [\"andi\",\"budi\",\"citra\",\"dewi\"]\n",
    "hasil = name in daftarPesertaLomba\n",
    "print(\"apakah terdaftar?\",hasil)\n",
    "\n",
    "kalimat = \"saya suka belajar bahasa pyhton\"\n",
    "kataYangDiCari = \"pyhton\"\n",
    "hasil = kataYangDiCari in kalimat\n",
    "print(\"apakah kata\",kataYangDiCari,\"ada di kalimat\",hasil)"
   ]
  },
  {
   "cell_type": "markdown",
   "id": "e5dfe7a4-91ae-43ff-a1f3-0c0f177a6f93",
   "metadata": {},
   "source": [
    "<h1>Operator Identitas</h1>"
   ]
  },
  {
   "cell_type": "code",
   "execution_count": 9,
   "id": "463f778b-8fd6-4c77-ad8d-7f555aed117e",
   "metadata": {},
   "outputs": [
    {
     "name": "stdout",
     "output_type": "stream",
     "text": [
      "apakah x dan y mengacu pada objek yang sama? True\n",
      "apakah a dan b mengacu pada objek yang sama? True\n",
      "apakah list1 dan list2 mengacu pada objek yang sama? False\n"
     ]
    }
   ],
   "source": [
    "x = 20\n",
    "y = 20\n",
    "\n",
    "hasil = x is y\n",
    "print(\"apakah x dan y mengacu pada objek yang sama?\",hasil)\n",
    "\n",
    "a = \"sayang\"\n",
    "b = \"sayang\"\n",
    "\n",
    "hasil = a is b\n",
    "print(\"apakah a dan b mengacu pada objek yang sama?\",hasil)\n",
    "\n",
    "list1 = [\"12\",\"13\",\"14\"]\n",
    "list2 = [\"12\",\"13\",\"14\"]\n",
    "\n",
    "hasil = list1 is list2\n",
    "print(\"apakah list1 dan list2 mengacu pada objek yang sama?\",hasil)"
   ]
  },
  {
   "cell_type": "markdown",
   "id": "a1dd745f-a8d9-4ccf-adcc-cadfe35080e9",
   "metadata": {},
   "source": [
    "<h1>Operator Ternary</h1>"
   ]
  },
  {
   "cell_type": "code",
   "execution_count": 10,
   "id": "aa063cf9-35a2-4eaa-b9ca-979290d3f3d4",
   "metadata": {},
   "outputs": [
    {
     "name": "stdout",
     "output_type": "stream",
     "text": [
      "Lebih besar dari 100\n",
      "Tidak lebih besar dari 100\n"
     ]
    },
    {
     "name": "stdin",
     "output_type": "stream",
     "text": [
      "isi nilai 100\n"
     ]
    },
    {
     "name": "stdout",
     "output_type": "stream",
     "text": [
      "Lulus\n"
     ]
    },
    {
     "name": "stdin",
     "output_type": "stream",
     "text": [
      "isi nilai 100\n"
     ]
    },
    {
     "name": "stdout",
     "output_type": "stream",
     "text": [
      "Lulus\n"
     ]
    }
   ],
   "source": [
    "angka = 150\n",
    "hasil = (\"Tidak lebih besar dari 100\", \"Lebih besar dari 100\")[angka > 100]\n",
    "print(hasil)\n",
    "\n",
    "angka2 = 50\n",
    "hasil2 = (\"Tidak lebih besar dari 100\", \"Lebih besar dari 100\")[angka2 > 100]\n",
    "print(hasil2)\n",
    "\n",
    "nilai_ujian = int(input(\"isi nilai\"))\n",
    "status = (\"Tidak Lulus\", \"Lulus\")[nilai_ujian > 70]\n",
    "print(status)\n",
    "\n",
    "nilai_ujian2 = int(input(\"isi nilai\"))\n",
    "status2 = (\"Tidak Lulus\", \"Lulus\")[nilai_ujian2 > 70]\n",
    "print(status2)"
   ]
  },
  {
   "cell_type": "code",
   "execution_count": 11,
   "id": "7d77ec2a-97ec-401c-84f9-aa7c7778b3f7",
   "metadata": {},
   "outputs": [
    {
     "name": "stdout",
     "output_type": "stream",
     "text": [
      "Lebih besar dari 100\n",
      "Tidak lebih besar dari 100\n"
     ]
    },
    {
     "name": "stdin",
     "output_type": "stream",
     "text": [
      "isi nilai 80\n"
     ]
    },
    {
     "name": "stdout",
     "output_type": "stream",
     "text": [
      "Lulus\n"
     ]
    },
    {
     "name": "stdin",
     "output_type": "stream",
     "text": [
      "isi nilai 60\n"
     ]
    },
    {
     "name": "stdout",
     "output_type": "stream",
     "text": [
      "Tidak Lulus\n"
     ]
    }
   ],
   "source": [
    "angka = 150\n",
    "hasil = \"Lebih besar dari 100\" if angka > 100 else \"Tidak lebih besar dari 100\"\n",
    "print(hasil)\n",
    "\n",
    "angka2 = 50\n",
    "hasil2 = \"Lebih besar dari 100\" if angka2 > 100 else \"Tidak lebih besar dari 100\"\n",
    "print(hasil2)\n",
    "\n",
    "nilai_ujian = int(input(\"isi nilai\"))\n",
    "status = \"Lulus\" if nilai_ujian > 70 else \"Tidak Lulus\"\n",
    "print(status)\n",
    "\n",
    "nilai_ujian2 = int(input(\"isi nilai\"))\n",
    "status2 = \"Lulus\" if nilai_ujian2 > 70 else \"Tidak Lulus\"\n",
    "print(status2)"
   ]
  },
  {
   "cell_type": "code",
   "execution_count": null,
   "id": "d9814553-fabe-4d09-b86c-c272daa310fd",
   "metadata": {},
   "outputs": [],
   "source": []
  }
 ],
 "metadata": {
  "kernelspec": {
   "display_name": "Python 3 (ipykernel)",
   "language": "python",
   "name": "python3"
  },
  "language_info": {
   "codemirror_mode": {
    "name": "ipython",
    "version": 3
   },
   "file_extension": ".py",
   "mimetype": "text/x-python",
   "name": "python",
   "nbconvert_exporter": "python",
   "pygments_lexer": "ipython3",
   "version": "3.12.7"
  }
 },
 "nbformat": 4,
 "nbformat_minor": 5
}
